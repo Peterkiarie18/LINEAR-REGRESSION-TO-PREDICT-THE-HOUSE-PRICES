{
  "nbformat": 4,
  "nbformat_minor": 0,
  "metadata": {
    "colab": {
      "provenance": []
    },
    "kernelspec": {
      "name": "python3",
      "display_name": "Python 3"
    },
    "language_info": {
      "name": "python"
    }
  },
  "cells": [
    {
      "cell_type": "code",
      "execution_count": 1,
      "metadata": {
        "id": "GyMysteMu42p"
      },
      "outputs": [],
      "source": [
        "import pandas as pd\n",
        "import numpy as np\n"
      ]
    },
    {
      "cell_type": "code",
      "source": [
        "from google.colab import drive\n",
        "drive.mount('/content/drive')\n",
        "data = pd.read_csv(\"/content/drive/MyDrive/csv/Real_estate.csv\")\n",
        "data.info()"
      ],
      "metadata": {
        "colab": {
          "base_uri": "https://localhost:8080/"
        },
        "id": "eLcwGBwcvIa0",
        "outputId": "76704593-cc85-4e5d-85b6-7ed6a39256f8"
      },
      "execution_count": 2,
      "outputs": [
        {
          "output_type": "stream",
          "name": "stdout",
          "text": [
            "Mounted at /content/drive\n",
            "<class 'pandas.core.frame.DataFrame'>\n",
            "RangeIndex: 414 entries, 0 to 413\n",
            "Data columns (total 8 columns):\n",
            " #   Column                                  Non-Null Count  Dtype  \n",
            "---  ------                                  --------------  -----  \n",
            " 0   No                                      414 non-null    int64  \n",
            " 1   X1 transaction date                     414 non-null    float64\n",
            " 2   X2 house age                            414 non-null    float64\n",
            " 3   X3 distance to the nearest MRT station  414 non-null    float64\n",
            " 4   X4 number of convenience stores         414 non-null    int64  \n",
            " 5   X5 latitude                             414 non-null    float64\n",
            " 6   X6 longitude                            414 non-null    float64\n",
            " 7   Y house price of unit area              414 non-null    float64\n",
            "dtypes: float64(6), int64(2)\n",
            "memory usage: 26.0 KB\n"
          ]
        }
      ]
    },
    {
      "cell_type": "markdown",
      "source": [
        "EDA WAS ALREADY PERFORMED IN THE LINEAR REGRESSION MODEL"
      ],
      "metadata": {
        "id": "4p0SFKWtvxVK"
      }
    },
    {
      "cell_type": "code",
      "source": [
        "from sklearn.model_selection import train_test_split\n",
        "from sklearn.tree import DecisionTreeRegressor\n",
        "from sklearn.ensemble import RandomForestRegressor\n",
        "from sklearn.metrics import mean_squared_error, mean_absolute_error\n",
        "\n",
        "# Split the data into features (X) and target variable (y)\n",
        "X = data.drop(['No', 'X1 transaction date', 'Y house price of unit area'], axis=1)\n",
        "y = data['Y house price of unit area']\n",
        "\n",
        "# Split the data into training and testing sets (80% train, 20% test)\n",
        "X_train, X_test, y_train, y_test = train_test_split(X, y, test_size=0.2, random_state=42)\n",
        "\n",
        "# Train a Decision Tree model\n",
        "dt_model = DecisionTreeRegressor(random_state=42)\n",
        "dt_model.fit(X_train, y_train)\n",
        "\n",
        "# Train a Random Forest model\n",
        "rf_model = RandomForestRegressor(random_state=42)\n",
        "rf_model.fit(X_train, y_train)\n",
        "\n",
        "# Make predictions on the testing data\n",
        "dt_pred = dt_model.predict(X_test)\n",
        "rf_pred = rf_model.predict(X_test)\n",
        "\n",
        "# Evaluate the performance of the Decision Tree model\n",
        "dt_mse = mean_squared_error(y_test, dt_pred)\n",
        "dt_mae = mean_absolute_error(y_test, dt_pred)\n",
        "dt_rmse = mean_squared_error(y_test, dt_pred, squared=False)\n",
        "\n",
        "# Evaluate the performance of the Random Forest model\n",
        "rf_mse = mean_squared_error(y_test, rf_pred)\n",
        "rf_mae = mean_absolute_error(y_test, rf_pred)\n",
        "rf_rmse = mean_squared_error(y_test, rf_pred, squared=False)\n",
        "\n",
        "# Print the performance metrics\n",
        "print(\"Decision Tree Model:\")\n",
        "print(\"Mean Squared Error (MSE):\", dt_mse)\n",
        "print(\"Mean Absolute Error (MAE):\", dt_mae)\n",
        "print(\"Root Mean Squared Error (RMSE):\", dt_rmse)\n",
        "print(\"\\nRandom Forest Model:\")\n",
        "print(\"Mean Squared Error (MSE):\", rf_mse)\n",
        "print(\"Mean Absolute Error (MAE):\", rf_mae)\n",
        "print(\"Root Mean Squared Error (RMSE):\", rf_rmse)"
      ],
      "metadata": {
        "colab": {
          "base_uri": "https://localhost:8080/"
        },
        "id": "qqxQdrzrvW-M",
        "outputId": "07319ab4-84c9-48f2-fd9c-a85138a3a348"
      },
      "execution_count": 4,
      "outputs": [
        {
          "output_type": "stream",
          "name": "stdout",
          "text": [
            "Decision Tree Model:\n",
            "Mean Squared Error (MSE): 58.828433734939765\n",
            "Mean Absolute Error (MAE): 5.595180722891567\n",
            "Root Mean Squared Error (RMSE): 7.669969604564269\n",
            "\n",
            "Random Forest Model:\n",
            "Mean Squared Error (MSE): 34.60981792762854\n",
            "Mean Absolute Error (MAE): 4.236691241155093\n",
            "Root Mean Squared Error (RMSE): 5.88301095763288\n"
          ]
        }
      ]
    }
  ]
}